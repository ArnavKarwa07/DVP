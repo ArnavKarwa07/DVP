{
 "cells": [
  {
   "cell_type": "markdown",
   "id": "5c95da67",
   "metadata": {},
   "source": [
    "# Using Pandas for Data Information\n",
    "\n",
    "In this notebook, we will demonstrate how to use the Pandas library to get information about a dataset, such as its structure, data types, and summary statistics."
   ]
  },
  {
   "cell_type": "code",
   "execution_count": null,
   "id": "b9cc75a1",
   "metadata": {},
   "outputs": [],
   "source": [
    "# Import pandas library\n",
    "import pandas as pd\n",
    "\n",
    "# Load the dataset (replace 'diabetes.csv' with your file if needed)\n",
    "df = pd.read_csv('diabetes.csv')\n",
    "df.head()"
   ]
  },
  {
   "cell_type": "code",
   "execution_count": null,
   "id": "43a830b4",
   "metadata": {},
   "outputs": [],
   "source": [
    "# Display basic information about the DataFrame\n",
    "print('DataFrame Info:')\n",
    "df.info()\n",
    "\n",
    "print('\\nSummary Statistics:')\n",
    "print(df.describe())\n",
    "\n",
    "print('\\nShape of the DataFrame:')\n",
    "print(df.shape)"
   ]
  },
  {
   "cell_type": "markdown",
   "id": "45ad651f",
   "metadata": {},
   "source": [
    "## Advanced Data Exploration with Pandas\n",
    "In this section, we will explore more features of pandas for data analysis, including checking for missing values, value counts, correlation, and data visualization."
   ]
  },
  {
   "cell_type": "code",
   "execution_count": null,
   "id": "73c065ab",
   "metadata": {},
   "outputs": [],
   "source": [
    "# Check for missing values\n",
    "print('Missing values in each column:')\n",
    "print(df.isnull().sum())\n",
    "\n",
    "# Value counts for a categorical column (replace 'Outcome' with your column if needed)\n",
    "if 'Outcome' in df.columns:\n",
    "    print('\\nValue counts for Outcome:')\n",
    "    print(df['Outcome'].value_counts())\n",
    "\n",
    "# Correlation matrix\n",
    "print('\\nCorrelation matrix:')\n",
    "print(df.corr())\n",
    "\n",
    "# Simple data visualization using pandas and matplotlib\n",
    "import matplotlib.pyplot as plt\n",
    "\n",
    "# Histogram of all columns\n",
    "df.hist(figsize=(10,8))\n",
    "plt.tight_layout()\n",
    "plt.show()\n",
    "\n",
    "# Boxplot for all columns\n",
    "df.plot(kind='box', subplots=True, layout=(3,3), figsize=(12,10), sharex=False, sharey=False)\n",
    "plt.tight_layout()\n",
    "plt.show()"
   ]
  }
 ],
 "metadata": {
  "kernelspec": {
   "display_name": "Python 3",
   "language": "python",
   "name": "python3"
  },
  "language_info": {
   "name": "python",
   "version": "3.12.9"
  }
 },
 "nbformat": 4,
 "nbformat_minor": 5
}
