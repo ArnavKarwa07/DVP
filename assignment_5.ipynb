{
 "cells": [
  {
   "cell_type": "markdown",
   "id": "2e14076f",
   "metadata": {},
   "source": [
    "# Data Analysis and Visualization with Pandas and Matplotlib\n",
    "\n",
    "This notebook demonstrates how to use the Pandas library for data analysis and Matplotlib for data visualization in Python."
   ]
  },
  {
   "cell_type": "code",
   "execution_count": null,
   "id": "5224e2fd",
   "metadata": {},
   "outputs": [],
   "source": [
    "# Import necessary libraries\n",
    "import pandas as pd\n",
    "import matplotlib.pyplot as plt"
   ]
  },
  {
   "cell_type": "code",
   "execution_count": null,
   "id": "f1997c5d",
   "metadata": {},
   "outputs": [],
   "source": [
    "# Load a sample dataset using pandas\n",
    "df = pd.read_csv('diabetes.csv')\n",
    "df.head()"
   ]
  },
  {
   "cell_type": "code",
   "execution_count": null,
   "id": "66a0369f",
   "metadata": {},
   "outputs": [],
   "source": [
    "# Basic data analysis with pandas\n",
    "print('DataFrame Info:')\n",
    "df.info()\n",
    "print('\\nSummary Statistics:')\n",
    "print(df.describe())"
   ]
  },
  {
   "cell_type": "code",
   "execution_count": null,
   "id": "d25b4cd4",
   "metadata": {},
   "outputs": [],
   "source": [
    "# Data visualization with matplotlib\n",
    "if 'Age' in df.columns:\n",
    "    plt.figure(figsize=(8,5))\n",
    "    plt.hist(df['Age'], bins=20, color='skyblue', edgecolor='black')\n",
    "    plt.title('Age Distribution')\n",
    "    plt.xlabel('Age')\n",
    "    plt.ylabel('Frequency')\n",
    "    plt.show()\n",
    "else:\n",
    "    print('No Age column found in the dataset.')"
   ]
  },
  {
   "cell_type": "markdown",
   "id": "7c15d97b",
   "metadata": {},
   "source": [
    "## Advanced Data Analysis and Visualization\n",
    "\n",
    "We will now perform deeper data analysis, including handling missing values, correlation analysis, groupby operations, and multiple types of visualizations."
   ]
  },
  {
   "cell_type": "code",
   "execution_count": null,
   "id": "2865d178",
   "metadata": {},
   "outputs": [],
   "source": [
    "# Handling missing values\n",
    "print('Missing values in each column:')\n",
    "print(df.isnull().sum())\n",
    "\n",
    "# Fill missing values with column mean (if any)\n",
    "df_filled = df.fillna(df.mean(numeric_only=True))\n",
    "print('\\nAny missing values left?')\n",
    "print(df_filled.isnull().sum())"
   ]
  },
  {
   "cell_type": "code",
   "execution_count": null,
   "id": "bf54e198",
   "metadata": {},
   "outputs": [],
   "source": [
    "# Correlation analysis and heatmap visualization\n",
    "import seaborn as sns\n",
    "\n",
    "plt.figure(figsize=(10,8))\n",
    "corr = df_filled.corr(numeric_only=True)\n",
    "sns.heatmap(corr, annot=True, cmap='coolwarm', fmt='.2f')\n",
    "plt.title('Correlation Matrix Heatmap')\n",
    "plt.show()"
   ]
  },
  {
   "cell_type": "code",
   "execution_count": null,
   "id": "aa92cfe9",
   "metadata": {},
   "outputs": [],
   "source": [
    "# Groupby analysis and bar plot visualization\n",
    "\n",
    "# Example: Mean of all columns grouped by 'Outcome' if present\n",
    "if 'Outcome' in df_filled.columns:\n",
    "    group_means = df_filled.groupby('Outcome').mean(numeric_only=True)\n",
    "    print(group_means)\n",
    "    group_means.plot(kind='bar', figsize=(10,6))\n",
    "    plt.title('Mean Values by Outcome')\n",
    "    plt.ylabel('Mean Value')\n",
    "    plt.xlabel('Outcome')\n",
    "    plt.legend(loc='best')\n",
    "    plt.show()\n",
    "else:\n",
    "    print('No Outcome column found for groupby analysis.')"
   ]
  },
  {
   "cell_type": "code",
   "execution_count": null,
   "id": "6fa409f1",
   "metadata": {},
   "outputs": [],
   "source": [
    "# Pairplot visualization for deeper exploration\n",
    "if df_filled.shape[1] <= 10:  # Limit to avoid too many plots\n",
    "    sns.pairplot(df_filled, diag_kind='kde')\n",
    "    plt.suptitle('Pairplot of Features', y=1.02)\n",
    "    plt.show()\n",
    "else:\n",
    "    print('Too many columns for pairplot. Consider selecting a subset of columns.')"
   ]
  }
 ],
 "metadata": {
  "kernelspec": {
   "display_name": "Python 3",
   "language": "python",
   "name": "python3"
  },
  "language_info": {
   "name": "python",
   "version": "3.12.9"
  }
 },
 "nbformat": 4,
 "nbformat_minor": 5
}
